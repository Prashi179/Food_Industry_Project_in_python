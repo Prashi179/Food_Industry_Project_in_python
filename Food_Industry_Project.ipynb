{
 "cells": [
  {
   "cell_type": "code",
   "execution_count": 1,
   "id": "5773df9c",
   "metadata": {},
   "outputs": [],
   "source": [
    "import pandas as pd\n",
    "import random\n",
    "from datetime import datetime, timedelta\n",
    "\n",
    "# Parameters\n",
    "num_rows = 1000\n",
    "categories = ['Dairy', 'Meat', 'Grains', 'Vegetables']\n",
    "brands = ['AlmondCo', 'PoultryInc', 'BreadMakers', 'VeggieDelights']\n",
    "countries = ['USA', 'Canada', 'Mexico', 'UK']\n",
    "\n",
    "# Function to generate random dates\n",
    "def random_date(start, end):\n",
    "    return start + timedelta(days=random.randint(0, (end - start).days))\n",
    "\n",
    "# Generate the dataset\n",
    "data = {\n",
    "    'Product_ID': range(1, num_rows + 1),\n",
    "    'Product_Name': [f'Product_{i}' for i in range(1, num_rows + 1)],\n",
    "    'Category': [random.choice(categories) for _ in range(num_rows)],\n",
    "    'Brand': [random.choice(brands) for _ in range(num_rows)],\n",
    "    'Price': [round(random.uniform(1.0, 20.0), 2) for _ in range(num_rows)],\n",
    "    'Weight': [random.randint(100, 2000) for _ in range(num_rows)],\n",
    "    'Calories': [random.randint(50, 500) for _ in range(num_rows)],\n",
    "    'Protein': [round(random.uniform(0, 30), 1) for _ in range(num_rows)],\n",
    "    'Carbohydrates': [round(random.uniform(0, 60), 1) for _ in range(num_rows)],\n",
    "    'Fats': [round(random.uniform(0, 20), 1) for _ in range(num_rows)],\n",
    "    'Sugar': [round(random.uniform(0, 15), 1) for _ in range(num_rows)],\n",
    "    'Fiber': [round(random.uniform(0, 10), 1) for _ in range(num_rows)],\n",
    "    'Sodium': [random.randint(0, 500) for _ in range(num_rows)],\n",
    "    'Expiration_Date': [random_date(datetime.now(), datetime(2025, 12, 31)).date() for _ in range(num_rows)],\n",
    "    'Stock_Quantity': [random.randint(0, 500) for _ in range(num_rows)],\n",
    "    'Supplier_ID': [f'SUP{random.randint(1, 10):03}' for _ in range(num_rows)],\n",
    "    'Country_of_Origin': [random.choice(countries) for _ in range(num_rows)],\n",
    "    'Vegan_Friendly': [random.choice(['Yes', 'No']) for _ in range(num_rows)],\n",
    "    'Gluten_Free': [random.choice(['Yes', 'No']) for _ in range(num_rows)],\n",
    "    'Rating': [round(random.uniform(1, 5), 1) for _ in range(num_rows)],\n",
    "}\n",
    "\n",
    "# Create DataFrame\n",
    "df = pd.DataFrame(data)"
   ]
  },
  {
   "cell_type": "code",
   "execution_count": 33,
   "id": "fcbf510d",
   "metadata": {},
   "outputs": [
    {
     "data": {
      "text/html": [
       "<div>\n",
       "<style scoped>\n",
       "    .dataframe tbody tr th:only-of-type {\n",
       "        vertical-align: middle;\n",
       "    }\n",
       "\n",
       "    .dataframe tbody tr th {\n",
       "        vertical-align: top;\n",
       "    }\n",
       "\n",
       "    .dataframe thead th {\n",
       "        text-align: right;\n",
       "    }\n",
       "</style>\n",
       "<table border=\"1\" class=\"dataframe\">\n",
       "  <thead>\n",
       "    <tr style=\"text-align: right;\">\n",
       "      <th></th>\n",
       "      <th>Product_ID</th>\n",
       "      <th>Product_Name</th>\n",
       "      <th>Category</th>\n",
       "      <th>Brand</th>\n",
       "      <th>Price</th>\n",
       "      <th>Weight</th>\n",
       "      <th>Calories</th>\n",
       "      <th>Protein</th>\n",
       "      <th>Carbohydrates</th>\n",
       "      <th>Fats</th>\n",
       "      <th>Sugar</th>\n",
       "      <th>Fiber</th>\n",
       "      <th>Sodium</th>\n",
       "      <th>Expiration_Date</th>\n",
       "      <th>Stock_Quantity</th>\n",
       "      <th>Supplier_ID</th>\n",
       "      <th>Country_of_Origin</th>\n",
       "      <th>Vegan_Friendly</th>\n",
       "      <th>Gluten_Free</th>\n",
       "      <th>Rating</th>\n",
       "    </tr>\n",
       "  </thead>\n",
       "  <tbody>\n",
       "    <tr>\n",
       "      <th>0</th>\n",
       "      <td>1</td>\n",
       "      <td>Product_1</td>\n",
       "      <td>Grains</td>\n",
       "      <td>VeggieDelights</td>\n",
       "      <td>9.38</td>\n",
       "      <td>1054</td>\n",
       "      <td>210</td>\n",
       "      <td>7.1</td>\n",
       "      <td>57.5</td>\n",
       "      <td>9.3</td>\n",
       "      <td>9.6</td>\n",
       "      <td>6.6</td>\n",
       "      <td>162</td>\n",
       "      <td>2025-07-20</td>\n",
       "      <td>293</td>\n",
       "      <td>SUP003</td>\n",
       "      <td>Canada</td>\n",
       "      <td>Yes</td>\n",
       "      <td>Yes</td>\n",
       "      <td>4.8</td>\n",
       "    </tr>\n",
       "    <tr>\n",
       "      <th>1</th>\n",
       "      <td>2</td>\n",
       "      <td>Product_2</td>\n",
       "      <td>Grains</td>\n",
       "      <td>PoultryInc</td>\n",
       "      <td>9.63</td>\n",
       "      <td>285</td>\n",
       "      <td>74</td>\n",
       "      <td>6.7</td>\n",
       "      <td>54.5</td>\n",
       "      <td>13.8</td>\n",
       "      <td>10.5</td>\n",
       "      <td>1.9</td>\n",
       "      <td>309</td>\n",
       "      <td>2025-05-08</td>\n",
       "      <td>430</td>\n",
       "      <td>SUP005</td>\n",
       "      <td>Mexico</td>\n",
       "      <td>No</td>\n",
       "      <td>No</td>\n",
       "      <td>3.1</td>\n",
       "    </tr>\n",
       "    <tr>\n",
       "      <th>2</th>\n",
       "      <td>3</td>\n",
       "      <td>Product_3</td>\n",
       "      <td>Meat</td>\n",
       "      <td>AlmondCo</td>\n",
       "      <td>16.78</td>\n",
       "      <td>1335</td>\n",
       "      <td>82</td>\n",
       "      <td>20.3</td>\n",
       "      <td>0.0</td>\n",
       "      <td>17.3</td>\n",
       "      <td>6.8</td>\n",
       "      <td>6.5</td>\n",
       "      <td>307</td>\n",
       "      <td>2025-12-05</td>\n",
       "      <td>117</td>\n",
       "      <td>SUP005</td>\n",
       "      <td>Mexico</td>\n",
       "      <td>Yes</td>\n",
       "      <td>No</td>\n",
       "      <td>1.5</td>\n",
       "    </tr>\n",
       "    <tr>\n",
       "      <th>3</th>\n",
       "      <td>4</td>\n",
       "      <td>Product_4</td>\n",
       "      <td>Grains</td>\n",
       "      <td>VeggieDelights</td>\n",
       "      <td>6.71</td>\n",
       "      <td>1886</td>\n",
       "      <td>122</td>\n",
       "      <td>4.0</td>\n",
       "      <td>24.9</td>\n",
       "      <td>0.8</td>\n",
       "      <td>13.6</td>\n",
       "      <td>6.6</td>\n",
       "      <td>26</td>\n",
       "      <td>2025-10-21</td>\n",
       "      <td>164</td>\n",
       "      <td>SUP005</td>\n",
       "      <td>UK</td>\n",
       "      <td>No</td>\n",
       "      <td>No</td>\n",
       "      <td>2.1</td>\n",
       "    </tr>\n",
       "    <tr>\n",
       "      <th>4</th>\n",
       "      <td>5</td>\n",
       "      <td>Product_5</td>\n",
       "      <td>Meat</td>\n",
       "      <td>VeggieDelights</td>\n",
       "      <td>16.86</td>\n",
       "      <td>1169</td>\n",
       "      <td>293</td>\n",
       "      <td>19.7</td>\n",
       "      <td>11.2</td>\n",
       "      <td>19.0</td>\n",
       "      <td>6.8</td>\n",
       "      <td>2.5</td>\n",
       "      <td>460</td>\n",
       "      <td>2025-08-02</td>\n",
       "      <td>251</td>\n",
       "      <td>SUP004</td>\n",
       "      <td>UK</td>\n",
       "      <td>No</td>\n",
       "      <td>No</td>\n",
       "      <td>2.1</td>\n",
       "    </tr>\n",
       "  </tbody>\n",
       "</table>\n",
       "</div>"
      ],
      "text/plain": [
       "   Product_ID Product_Name Category           Brand  Price  Weight  Calories  \\\n",
       "0           1    Product_1   Grains  VeggieDelights   9.38    1054       210   \n",
       "1           2    Product_2   Grains      PoultryInc   9.63     285        74   \n",
       "2           3    Product_3     Meat        AlmondCo  16.78    1335        82   \n",
       "3           4    Product_4   Grains  VeggieDelights   6.71    1886       122   \n",
       "4           5    Product_5     Meat  VeggieDelights  16.86    1169       293   \n",
       "\n",
       "   Protein  Carbohydrates  Fats  Sugar  Fiber  Sodium Expiration_Date  \\\n",
       "0      7.1           57.5   9.3    9.6    6.6     162      2025-07-20   \n",
       "1      6.7           54.5  13.8   10.5    1.9     309      2025-05-08   \n",
       "2     20.3            0.0  17.3    6.8    6.5     307      2025-12-05   \n",
       "3      4.0           24.9   0.8   13.6    6.6      26      2025-10-21   \n",
       "4     19.7           11.2  19.0    6.8    2.5     460      2025-08-02   \n",
       "\n",
       "   Stock_Quantity Supplier_ID Country_of_Origin Vegan_Friendly Gluten_Free  \\\n",
       "0             293      SUP003            Canada            Yes         Yes   \n",
       "1             430      SUP005            Mexico             No          No   \n",
       "2             117      SUP005            Mexico            Yes          No   \n",
       "3             164      SUP005                UK             No          No   \n",
       "4             251      SUP004                UK             No          No   \n",
       "\n",
       "   Rating  \n",
       "0     4.8  \n",
       "1     3.1  \n",
       "2     1.5  \n",
       "3     2.1  \n",
       "4     2.1  "
      ]
     },
     "execution_count": 33,
     "metadata": {},
     "output_type": "execute_result"
    }
   ],
   "source": [
    "df.head()"
   ]
  },
  {
   "cell_type": "code",
   "execution_count": 34,
   "id": "3762f4aa",
   "metadata": {},
   "outputs": [
    {
     "data": {
      "text/html": [
       "<div>\n",
       "<style scoped>\n",
       "    .dataframe tbody tr th:only-of-type {\n",
       "        vertical-align: middle;\n",
       "    }\n",
       "\n",
       "    .dataframe tbody tr th {\n",
       "        vertical-align: top;\n",
       "    }\n",
       "\n",
       "    .dataframe thead th {\n",
       "        text-align: right;\n",
       "    }\n",
       "</style>\n",
       "<table border=\"1\" class=\"dataframe\">\n",
       "  <thead>\n",
       "    <tr style=\"text-align: right;\">\n",
       "      <th></th>\n",
       "      <th>Product_ID</th>\n",
       "      <th>Product_Name</th>\n",
       "      <th>Category</th>\n",
       "      <th>Brand</th>\n",
       "      <th>Price</th>\n",
       "      <th>Weight</th>\n",
       "      <th>Calories</th>\n",
       "      <th>Protein</th>\n",
       "      <th>Carbohydrates</th>\n",
       "      <th>Fats</th>\n",
       "      <th>Sugar</th>\n",
       "      <th>Fiber</th>\n",
       "      <th>Sodium</th>\n",
       "      <th>Expiration_Date</th>\n",
       "      <th>Stock_Quantity</th>\n",
       "      <th>Supplier_ID</th>\n",
       "      <th>Country_of_Origin</th>\n",
       "      <th>Vegan_Friendly</th>\n",
       "      <th>Gluten_Free</th>\n",
       "      <th>Rating</th>\n",
       "    </tr>\n",
       "  </thead>\n",
       "  <tbody>\n",
       "    <tr>\n",
       "      <th>0</th>\n",
       "      <td>1</td>\n",
       "      <td>Product_1</td>\n",
       "      <td>Grains</td>\n",
       "      <td>VeggieDelights</td>\n",
       "      <td>9.38</td>\n",
       "      <td>1054</td>\n",
       "      <td>210</td>\n",
       "      <td>7.1</td>\n",
       "      <td>57.5</td>\n",
       "      <td>9.3</td>\n",
       "      <td>9.6</td>\n",
       "      <td>6.6</td>\n",
       "      <td>162</td>\n",
       "      <td>2025-07-20</td>\n",
       "      <td>293</td>\n",
       "      <td>SUP003</td>\n",
       "      <td>Canada</td>\n",
       "      <td>Yes</td>\n",
       "      <td>Yes</td>\n",
       "      <td>4.8</td>\n",
       "    </tr>\n",
       "    <tr>\n",
       "      <th>1</th>\n",
       "      <td>2</td>\n",
       "      <td>Product_2</td>\n",
       "      <td>Grains</td>\n",
       "      <td>PoultryInc</td>\n",
       "      <td>9.63</td>\n",
       "      <td>285</td>\n",
       "      <td>74</td>\n",
       "      <td>6.7</td>\n",
       "      <td>54.5</td>\n",
       "      <td>13.8</td>\n",
       "      <td>10.5</td>\n",
       "      <td>1.9</td>\n",
       "      <td>309</td>\n",
       "      <td>2025-05-08</td>\n",
       "      <td>430</td>\n",
       "      <td>SUP005</td>\n",
       "      <td>Mexico</td>\n",
       "      <td>No</td>\n",
       "      <td>No</td>\n",
       "      <td>3.1</td>\n",
       "    </tr>\n",
       "    <tr>\n",
       "      <th>2</th>\n",
       "      <td>3</td>\n",
       "      <td>Product_3</td>\n",
       "      <td>Meat</td>\n",
       "      <td>AlmondCo</td>\n",
       "      <td>16.78</td>\n",
       "      <td>1335</td>\n",
       "      <td>82</td>\n",
       "      <td>20.3</td>\n",
       "      <td>0.0</td>\n",
       "      <td>17.3</td>\n",
       "      <td>6.8</td>\n",
       "      <td>6.5</td>\n",
       "      <td>307</td>\n",
       "      <td>2025-12-05</td>\n",
       "      <td>117</td>\n",
       "      <td>SUP005</td>\n",
       "      <td>Mexico</td>\n",
       "      <td>Yes</td>\n",
       "      <td>No</td>\n",
       "      <td>1.5</td>\n",
       "    </tr>\n",
       "    <tr>\n",
       "      <th>3</th>\n",
       "      <td>4</td>\n",
       "      <td>Product_4</td>\n",
       "      <td>Grains</td>\n",
       "      <td>VeggieDelights</td>\n",
       "      <td>6.71</td>\n",
       "      <td>1886</td>\n",
       "      <td>122</td>\n",
       "      <td>4.0</td>\n",
       "      <td>24.9</td>\n",
       "      <td>0.8</td>\n",
       "      <td>13.6</td>\n",
       "      <td>6.6</td>\n",
       "      <td>26</td>\n",
       "      <td>2025-10-21</td>\n",
       "      <td>164</td>\n",
       "      <td>SUP005</td>\n",
       "      <td>UK</td>\n",
       "      <td>No</td>\n",
       "      <td>No</td>\n",
       "      <td>2.1</td>\n",
       "    </tr>\n",
       "    <tr>\n",
       "      <th>4</th>\n",
       "      <td>5</td>\n",
       "      <td>Product_5</td>\n",
       "      <td>Meat</td>\n",
       "      <td>VeggieDelights</td>\n",
       "      <td>16.86</td>\n",
       "      <td>1169</td>\n",
       "      <td>293</td>\n",
       "      <td>19.7</td>\n",
       "      <td>11.2</td>\n",
       "      <td>19.0</td>\n",
       "      <td>6.8</td>\n",
       "      <td>2.5</td>\n",
       "      <td>460</td>\n",
       "      <td>2025-08-02</td>\n",
       "      <td>251</td>\n",
       "      <td>SUP004</td>\n",
       "      <td>UK</td>\n",
       "      <td>No</td>\n",
       "      <td>No</td>\n",
       "      <td>2.1</td>\n",
       "    </tr>\n",
       "  </tbody>\n",
       "</table>\n",
       "</div>"
      ],
      "text/plain": [
       "   Product_ID Product_Name Category           Brand  Price  Weight  Calories  \\\n",
       "0           1    Product_1   Grains  VeggieDelights   9.38    1054       210   \n",
       "1           2    Product_2   Grains      PoultryInc   9.63     285        74   \n",
       "2           3    Product_3     Meat        AlmondCo  16.78    1335        82   \n",
       "3           4    Product_4   Grains  VeggieDelights   6.71    1886       122   \n",
       "4           5    Product_5     Meat  VeggieDelights  16.86    1169       293   \n",
       "\n",
       "   Protein  Carbohydrates  Fats  Sugar  Fiber  Sodium Expiration_Date  \\\n",
       "0      7.1           57.5   9.3    9.6    6.6     162      2025-07-20   \n",
       "1      6.7           54.5  13.8   10.5    1.9     309      2025-05-08   \n",
       "2     20.3            0.0  17.3    6.8    6.5     307      2025-12-05   \n",
       "3      4.0           24.9   0.8   13.6    6.6      26      2025-10-21   \n",
       "4     19.7           11.2  19.0    6.8    2.5     460      2025-08-02   \n",
       "\n",
       "   Stock_Quantity Supplier_ID Country_of_Origin Vegan_Friendly Gluten_Free  \\\n",
       "0             293      SUP003            Canada            Yes         Yes   \n",
       "1             430      SUP005            Mexico             No          No   \n",
       "2             117      SUP005            Mexico            Yes          No   \n",
       "3             164      SUP005                UK             No          No   \n",
       "4             251      SUP004                UK             No          No   \n",
       "\n",
       "   Rating  \n",
       "0     4.8  \n",
       "1     3.1  \n",
       "2     1.5  \n",
       "3     2.1  \n",
       "4     2.1  "
      ]
     },
     "execution_count": 34,
     "metadata": {},
     "output_type": "execute_result"
    }
   ],
   "source": [
    "df.head()"
   ]
  },
  {
   "cell_type": "raw",
   "id": "8e1eff3c",
   "metadata": {},
   "source": [
    "What is the average price of products across different categories?\n",
    "Which category has the highest average calorie count?\n",
    "What percentage of products are vegan-friendly?\n",
    "What is the distribution of ratings for products?\n",
    "How does the stock quantity vary across different brands?\n",
    "Which country of origin has the highest average protein content in its products?\n",
    "What is the relationship between price and calories?\n",
    "How many products have a sodium content higher than the recommended daily intake (2300 mg)?\n",
    "What are the top 5 highest-rated products?\n",
    "Is there a significant difference in the average weight of gluten-free vs. non-gluten-free products?\n",
    "What is the average sugar content of products in the Dairy category?\n",
    "How many products will expire within the next 6 months?\n",
    "Which brand has the most products in stock?\n",
    "What is the average fiber content of products that are both vegan and gluten-free?\n",
    "How does the average fat content vary by category?"
   ]
  },
  {
   "cell_type": "code",
   "execution_count": 35,
   "id": "aec463d7",
   "metadata": {},
   "outputs": [
    {
     "data": {
      "text/plain": [
       "Category\n",
       "Dairy         10.331864\n",
       "Grains        10.818846\n",
       "Meat          10.730526\n",
       "Vegetables    10.234598\n",
       "Name: Price, dtype: float64"
      ]
     },
     "execution_count": 35,
     "metadata": {},
     "output_type": "execute_result"
    }
   ],
   "source": [
    "#1 What is the average price of products across different categories?\n",
    "\n",
    "AvgPrice=df.groupby(\"Category\")[\"Price\"].mean()\n",
    "(AvgPrice)"
   ]
  },
  {
   "cell_type": "code",
   "execution_count": 36,
   "id": "746e610c",
   "metadata": {},
   "outputs": [
    {
     "data": {
      "text/plain": [
       "500"
      ]
     },
     "execution_count": 36,
     "metadata": {},
     "output_type": "execute_result"
    }
   ],
   "source": [
    "df[\"Calories\"].max()"
   ]
  },
  {
   "cell_type": "code",
   "execution_count": 99,
   "id": "d524c86e",
   "metadata": {},
   "outputs": [
    {
     "name": "stdout",
     "output_type": "stream",
     "text": [
      "Category with the highest average calorie count: Vegetables\n",
      "Average Calorie Count: 289.5892857142857\n"
     ]
    }
   ],
   "source": [
    "#2 Which category has the highest average calorie count?\n",
    "\n",
    "avg_cat_cal=df.groupby(\"Category\")[\"Calories\"].mean()\n",
    "max_cal_cat=avg_cat_cal.idxmax()\n",
    "print(f\"Category with the highest average calorie count: {max_cal_cat}\")\n",
    "print(f\"Average Calorie Count: {avg_cat_cal[max_cal_cat]}\")\n"
   ]
  },
  {
   "cell_type": "code",
   "execution_count": 101,
   "id": "65516e2e",
   "metadata": {},
   "outputs": [
    {
     "name": "stdout",
     "output_type": "stream",
     "text": [
      "Percentage of vegan-friendly products: 50.20%\n"
     ]
    }
   ],
   "source": [
    "#3 What percentage of products are vegan-friendly?\n",
    "\n",
    "total_products= len(df)\n",
    "vegan_friendly_products=len(df[df[\"Vegan_Friendly\"]==\"Yes\"])\n",
    "vegan_friendly_percentage=(vegan_friendly_products/total_products)*100\n",
    "print(f\"Percentage of vegan-friendly products: {vegan_friendly_percentage:.2f}%\")"
   ]
  },
  {
   "cell_type": "code",
   "execution_count": 39,
   "id": "793e2703",
   "metadata": {},
   "outputs": [
    {
     "name": "stdout",
     "output_type": "stream",
     "text": [
      "Rating\n",
      "1.0    15\n",
      "1.1    24\n",
      "1.2    30\n",
      "1.3    24\n",
      "1.4    19\n",
      "1.5    25\n",
      "1.6    18\n",
      "1.7    25\n",
      "1.8    20\n",
      "1.9    27\n",
      "2.0    27\n",
      "2.1    24\n",
      "2.2    25\n",
      "2.3    35\n",
      "2.4    37\n",
      "2.5    24\n",
      "2.6    32\n",
      "2.7    28\n",
      "2.8    24\n",
      "2.9    23\n",
      "3.0    21\n",
      "3.1    23\n",
      "3.2    26\n",
      "3.3    29\n",
      "3.4    22\n",
      "3.5    27\n",
      "3.6    26\n",
      "3.7    16\n",
      "3.8    39\n",
      "3.9    24\n",
      "4.0    26\n",
      "4.1    20\n",
      "4.2    19\n",
      "4.3    14\n",
      "4.4    20\n",
      "4.5    26\n",
      "4.6    25\n",
      "4.7    23\n",
      "4.8    27\n",
      "4.9    30\n",
      "5.0    11\n",
      "Name: count, dtype: int64\n"
     ]
    }
   ],
   "source": [
    "#4 What is the distribution of ratings for products?\n",
    "rating_distribution=df[\"Rating\"].value_counts().sort_index()\n",
    "print(rating_distribution)"
   ]
  },
  {
   "cell_type": "code",
   "execution_count": 41,
   "id": "6e4bf36d",
   "metadata": {},
   "outputs": [
    {
     "data": {
      "text/html": [
       "<div>\n",
       "<style scoped>\n",
       "    .dataframe tbody tr th:only-of-type {\n",
       "        vertical-align: middle;\n",
       "    }\n",
       "\n",
       "    .dataframe tbody tr th {\n",
       "        vertical-align: top;\n",
       "    }\n",
       "\n",
       "    .dataframe thead th {\n",
       "        text-align: right;\n",
       "    }\n",
       "</style>\n",
       "<table border=\"1\" class=\"dataframe\">\n",
       "  <thead>\n",
       "    <tr style=\"text-align: right;\">\n",
       "      <th></th>\n",
       "      <th>count</th>\n",
       "      <th>mean</th>\n",
       "      <th>std</th>\n",
       "      <th>min</th>\n",
       "      <th>25%</th>\n",
       "      <th>50%</th>\n",
       "      <th>75%</th>\n",
       "      <th>max</th>\n",
       "    </tr>\n",
       "    <tr>\n",
       "      <th>Brand</th>\n",
       "      <th></th>\n",
       "      <th></th>\n",
       "      <th></th>\n",
       "      <th></th>\n",
       "      <th></th>\n",
       "      <th></th>\n",
       "      <th></th>\n",
       "      <th></th>\n",
       "    </tr>\n",
       "  </thead>\n",
       "  <tbody>\n",
       "    <tr>\n",
       "      <th>AlmondCo</th>\n",
       "      <td>233.0</td>\n",
       "      <td>255.798283</td>\n",
       "      <td>141.794556</td>\n",
       "      <td>3.0</td>\n",
       "      <td>131.0</td>\n",
       "      <td>267.0</td>\n",
       "      <td>376.00</td>\n",
       "      <td>499.0</td>\n",
       "    </tr>\n",
       "    <tr>\n",
       "      <th>BreadMakers</th>\n",
       "      <td>258.0</td>\n",
       "      <td>248.186047</td>\n",
       "      <td>140.410364</td>\n",
       "      <td>0.0</td>\n",
       "      <td>125.0</td>\n",
       "      <td>249.0</td>\n",
       "      <td>363.75</td>\n",
       "      <td>494.0</td>\n",
       "    </tr>\n",
       "    <tr>\n",
       "      <th>PoultryInc</th>\n",
       "      <td>242.0</td>\n",
       "      <td>252.227273</td>\n",
       "      <td>147.485684</td>\n",
       "      <td>4.0</td>\n",
       "      <td>125.0</td>\n",
       "      <td>248.0</td>\n",
       "      <td>397.50</td>\n",
       "      <td>500.0</td>\n",
       "    </tr>\n",
       "    <tr>\n",
       "      <th>VeggieDelights</th>\n",
       "      <td>267.0</td>\n",
       "      <td>245.494382</td>\n",
       "      <td>148.983356</td>\n",
       "      <td>0.0</td>\n",
       "      <td>114.5</td>\n",
       "      <td>231.0</td>\n",
       "      <td>388.50</td>\n",
       "      <td>499.0</td>\n",
       "    </tr>\n",
       "  </tbody>\n",
       "</table>\n",
       "</div>"
      ],
      "text/plain": [
       "                count        mean         std  min    25%    50%     75%  \\\n",
       "Brand                                                                      \n",
       "AlmondCo        233.0  255.798283  141.794556  3.0  131.0  267.0  376.00   \n",
       "BreadMakers     258.0  248.186047  140.410364  0.0  125.0  249.0  363.75   \n",
       "PoultryInc      242.0  252.227273  147.485684  4.0  125.0  248.0  397.50   \n",
       "VeggieDelights  267.0  245.494382  148.983356  0.0  114.5  231.0  388.50   \n",
       "\n",
       "                  max  \n",
       "Brand                  \n",
       "AlmondCo        499.0  \n",
       "BreadMakers     494.0  \n",
       "PoultryInc      500.0  \n",
       "VeggieDelights  499.0  "
      ]
     },
     "execution_count": 41,
     "metadata": {},
     "output_type": "execute_result"
    }
   ],
   "source": [
    "#5 How does the stock quantity vary across different brands?\n",
    "stock_quantity_by_brand=df.groupby(\"Brand\")[\"Stock_Quantity\"].describe()\n",
    "stock_quantity_by_brand"
   ]
  },
  {
   "cell_type": "code",
   "execution_count": 102,
   "id": "4085b4bc",
   "metadata": {},
   "outputs": [
    {
     "name": "stdout",
     "output_type": "stream",
     "text": [
      "Country with the highest average protein content: Canada\n",
      "Average Protein Content: 15.213445378151262\n"
     ]
    }
   ],
   "source": [
    "#6 Which country of origin has the highest average protein content in its products?\n",
    "average_protein_count=df.groupby(\"Country_of_Origin\")[\"Protein\"].mean()\n",
    "max_protein_country=average_protein_count.idxmax()\n",
    "print(f\"Country with the highest average protein content: {max_protein_country}\")\n",
    "print(f\"Average Protein Content: {average_protein_count[max_protein_country]}\")\n"
   ]
  },
  {
   "cell_type": "code",
   "execution_count": 54,
   "id": "660a4466",
   "metadata": {},
   "outputs": [
    {
     "name": "stdout",
     "output_type": "stream",
     "text": [
      "Correlation between Price and Calories: 0.01\n"
     ]
    }
   ],
   "source": [
    "#7 What is the relationship between price and calories?\n",
    "correlation_price_calories = df['Price'].corr(df['Calories'])\n",
    "print(f\"Correlation between Price and Calories: {correlation_price_calories:.2f}\")\n"
   ]
  },
  {
   "cell_type": "code",
   "execution_count": 103,
   "id": "adbb3680",
   "metadata": {},
   "outputs": [
    {
     "name": "stdout",
     "output_type": "stream",
     "text": [
      "Number of products with sodium content higher than 2300 mg: 0\n"
     ]
    }
   ],
   "source": [
    "#8 How many products have a sodium content higher than the recommended daily intake (2300 mg)?\n",
    "High_Soidum_Content_product=df[df[\"Sodium\"]>2300].shape[0]\n",
    "print(f\"Number of products with sodium content higher than 2300 mg: {High_Soidum_Content_product}\")"
   ]
  },
  {
   "cell_type": "code",
   "execution_count": 60,
   "id": "0cc0a82f",
   "metadata": {},
   "outputs": [
    {
     "data": {
      "text/html": [
       "<div>\n",
       "<style scoped>\n",
       "    .dataframe tbody tr th:only-of-type {\n",
       "        vertical-align: middle;\n",
       "    }\n",
       "\n",
       "    .dataframe tbody tr th {\n",
       "        vertical-align: top;\n",
       "    }\n",
       "\n",
       "    .dataframe thead th {\n",
       "        text-align: right;\n",
       "    }\n",
       "</style>\n",
       "<table border=\"1\" class=\"dataframe\">\n",
       "  <thead>\n",
       "    <tr style=\"text-align: right;\">\n",
       "      <th></th>\n",
       "      <th>Product_Name</th>\n",
       "      <th>Rating</th>\n",
       "    </tr>\n",
       "  </thead>\n",
       "  <tbody>\n",
       "    <tr>\n",
       "      <th>184</th>\n",
       "      <td>Product_185</td>\n",
       "      <td>5.0</td>\n",
       "    </tr>\n",
       "    <tr>\n",
       "      <th>285</th>\n",
       "      <td>Product_286</td>\n",
       "      <td>5.0</td>\n",
       "    </tr>\n",
       "    <tr>\n",
       "      <th>330</th>\n",
       "      <td>Product_331</td>\n",
       "      <td>5.0</td>\n",
       "    </tr>\n",
       "    <tr>\n",
       "      <th>445</th>\n",
       "      <td>Product_446</td>\n",
       "      <td>5.0</td>\n",
       "    </tr>\n",
       "    <tr>\n",
       "      <th>525</th>\n",
       "      <td>Product_526</td>\n",
       "      <td>5.0</td>\n",
       "    </tr>\n",
       "  </tbody>\n",
       "</table>\n",
       "</div>"
      ],
      "text/plain": [
       "    Product_Name  Rating\n",
       "184  Product_185     5.0\n",
       "285  Product_286     5.0\n",
       "330  Product_331     5.0\n",
       "445  Product_446     5.0\n",
       "525  Product_526     5.0"
      ]
     },
     "execution_count": 60,
     "metadata": {},
     "output_type": "execute_result"
    }
   ],
   "source": [
    "#9 What are the top 5 highest-rated products?\n",
    "top_5_highest_rated_products = df.nlargest(5,\"Rating\")\n",
    "(top_5_highest_rated_products[[\"Product_Name\",\"Rating\"]])"
   ]
  },
  {
   "cell_type": "code",
   "execution_count": 94,
   "id": "95746116",
   "metadata": {},
   "outputs": [
    {
     "name": "stdout",
     "output_type": "stream",
     "text": [
      "Average weight of gluten-free products: 1078.16 grams\n",
      "Average weight of non-gluten-free products: 1032.00 grams\n"
     ]
    }
   ],
   "source": [
    "#10 Is there a significant difference in the average weight of gluten-free vs. non-gluten-free products?\n",
    "gluten_free_products = df[df[\"Gluten_Free\"]==\"Yes\"]\n",
    "nongluten_free_products = df[df[\"Gluten_Free\"]==\"No\"]\n",
    "avg_weight_gluten_free =  gluten_free_products[\"Weight\"].mean() \n",
    "avg_weight_nongluten_free =  nongluten_free_products[\"Weight\"].mean() \n",
    "print(f'Average weight of gluten-free products: {avg_weight_gluten_free:.2f} grams')\n",
    "print(f'Average weight of non-gluten-free products: {avg_weight_nongluten_free:.2f} grams')"
   ]
  },
  {
   "cell_type": "code",
   "execution_count": 96,
   "id": "a35eaf5a",
   "metadata": {},
   "outputs": [
    {
     "data": {
      "text/plain": [
       "7.8335593220338975"
      ]
     },
     "execution_count": 96,
     "metadata": {},
     "output_type": "execute_result"
    }
   ],
   "source": [
    "#11 What is the average sugar content of products in the Dairy category?\n",
    "average_sugar_dairy=df[df[\"Category\"]==\"Dairy\"][\"Sugar\"].mean()\n",
    "average_sugar_dairy"
   ]
  },
  {
   "cell_type": "code",
   "execution_count": 62,
   "id": "291a02e9",
   "metadata": {},
   "outputs": [
    {
     "data": {
      "text/plain": [
       "393"
      ]
     },
     "execution_count": 62,
     "metadata": {},
     "output_type": "execute_result"
    }
   ],
   "source": [
    "#12 How many products will expire within the next 6 months?\n",
    "current_date=datetime.now().date()\n",
    "six_months_later= current_date+timedelta(days=180)\n",
    "expiring_products_count=df[df[\"Expiration_Date\"]<=six_months_later].shape[0]\n",
    "expiring_products_count"
   ]
  },
  {
   "cell_type": "code",
   "execution_count": 69,
   "id": "0f2dba42",
   "metadata": {},
   "outputs": [
    {
     "name": "stdout",
     "output_type": "stream",
     "text": [
      "The brand with the most products in stock is: {'VeggieDelights'} {65547}\n"
     ]
    }
   ],
   "source": [
    "#13 Which brand has the most products in stock?\n",
    "stock_by_brand = df.groupby(\"Brand\")[\"Stock_Quantity\"].sum()\n",
    "max_stock_by_brand = stock_by_brand.idxmax()\n",
    "max_stock_products_quantity = stock_by_brand.max()\n",
    "print(\"The brand with the most products in stock is:\",{max_stock_by_brand}, { max_stock_products_quantity} )"
   ]
  },
  {
   "cell_type": "code",
   "execution_count": 89,
   "id": "c4d1122c",
   "metadata": {},
   "outputs": [
    {
     "name": "stdout",
     "output_type": "stream",
     "text": [
      "The average fiber content of vegan and gluten-free products is: 4.60 grams.\n"
     ]
    }
   ],
   "source": [
    "#14 What is the average fiber content of products that are both vegan and gluten-free?\n",
    "avg_fiber_products=df[(df[\"Vegan_Friendly\"]==\"Yes\") & (df[\"Gluten_Free\"]==\"Yes\") ]\n",
    "avg_fiber=  avg_fiber_products[\"Fiber\"].mean()\n",
    "print(f'The average fiber content of vegan and gluten-free products is: {avg_fiber:.2f} grams.')\n"
   ]
  },
  {
   "cell_type": "code",
   "execution_count": 91,
   "id": "0087804d",
   "metadata": {},
   "outputs": [
    {
     "data": {
      "text/plain": [
       "Category\n",
       "Dairy         9.778983\n",
       "Grains        9.626923\n",
       "Meat          9.606478\n",
       "Vegetables    9.857143\n",
       "Name: Fats, dtype: float64"
      ]
     },
     "execution_count": 91,
     "metadata": {},
     "output_type": "execute_result"
    }
   ],
   "source": [
    "#15 How does the average fat content vary by category?\n",
    "avg_fat_content = df.groupby(\"Category\")[\"Fats\"].mean()\n",
    "avg_fat_content"
   ]
  },
  {
   "cell_type": "code",
   "execution_count": null,
   "id": "414952ff",
   "metadata": {},
   "outputs": [],
   "source": []
  }
 ],
 "metadata": {
  "kernelspec": {
   "display_name": "Python 3 (ipykernel)",
   "language": "python",
   "name": "python3"
  },
  "language_info": {
   "codemirror_mode": {
    "name": "ipython",
    "version": 3
   },
   "file_extension": ".py",
   "mimetype": "text/x-python",
   "name": "python",
   "nbconvert_exporter": "python",
   "pygments_lexer": "ipython3",
   "version": "3.11.5"
  }
 },
 "nbformat": 4,
 "nbformat_minor": 5
}
